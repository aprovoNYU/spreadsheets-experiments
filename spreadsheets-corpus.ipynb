{
 "cells": [
  {
   "cell_type": "markdown",
   "id": "2444c6fc-98da-46a2-ba37-01823ee8c468",
   "metadata": {},
   "source": [
    "# Get metadata for records containing spreadsheet files in Zenodo\n",
    "first up, following the instructions on the [Zenodo developers site](https://developers.zenodo.org/?python#quickstart-upload) and this [instruction for looping through API page results](https://viniciusdesouza-becker.medium.com/making-a-request-in-a-paginated-api-using-python-7be6279c2aca)"
   ]
  },
  {
   "cell_type": "code",
   "execution_count": 1,
   "id": "05004da7-fedf-4d72-832b-c1dee881e662",
   "metadata": {},
   "outputs": [],
   "source": [
    "import requests\n",
    "import re\n",
    "from datetime import datetime\n",
    "import json"
   ]
  },
  {
   "cell_type": "code",
   "execution_count": null,
   "id": "e9776805-2f6c-4dac-a7b2-ef11299650d3",
   "metadata": {},
   "outputs": [],
   "source": [
    "#enter the Zenodo API access token\n",
    "#ACCESS_TOKEN = input(\"enter Zenodo access token: \")"
   ]
  },
  {
   "cell_type": "code",
   "execution_count": 2,
   "id": "c00a9a63-e662-4785-aa34-7a9e6d0ebc64",
   "metadata": {},
   "outputs": [],
   "source": [
    "#set up some lists\n",
    "total_results = []\n",
    "record_id_list = []\n",
    "#set up current date and time for output filename\n",
    "filetime = datetime.now()\n",
    "filetime = filetime.strftime('%Y-%m-%d_%I-%M_%p')"
   ]
  },
  {
   "cell_type": "code",
   "execution_count": 3,
   "id": "ed8eabcb-a3ad-4a40-977c-8c3a40c372da",
   "metadata": {},
   "outputs": [],
   "source": [
    "#set up API details\n",
    "url = 'https://zenodo.org/api/records'\n",
    "params = {'q': 'filetype:(xlsb) AND doi:zenodo',\n",
    "        'size': '20',\n",
    "        #'access_token': ACCESS_TOKEN\n",
    "        # 'q': 'filetype:(csv OR xlsx OR tsv OR xls OR ods OR xlsb) AND doi:zenodo'\n",
    "       }"
   ]
  },
  {
   "cell_type": "code",
   "execution_count": 9,
   "id": "450d3b39-053b-4fa0-977a-a6de132d131d",
   "metadata": {},
   "outputs": [
    {
     "name": "stdout",
     "output_type": "stream",
     "text": [
      "current page https://zenodo.org/api/records?q=filetype%3A%28xlsb%29+AND+doi%3Azenodo&size=20\n",
      "the links on this current page are: {'self': 'https://zenodo.org/api/records?page=1&q=filetype%3A%28xlsb%29%20AND%20doi%3Azenodo&size=20&sort=bestmatch', 'next': 'https://zenodo.org/api/records?page=2&q=filetype%3A%28xlsb%29%20AND%20doi%3Azenodo&size=20&sort=bestmatch'}\n",
      "20 records were added to the big list\n",
      "setting next page: https://zenodo.org/api/records?page=2&q=filetype%3A%28xlsb%29%20AND%20doi%3Azenodo&size=20&sort=bestmatch\n",
      "current page https://zenodo.org/api/records?page=2&q=filetype%3A%28xlsb%29%20AND%20doi%3Azenodo&size=20&sort=bestmatch&q=filetype%3A%28xlsb%29+AND+doi%3Azenodo&size=20\n",
      "the links on this current page are: {'prev': 'https://zenodo.org/api/records?page=1&q=filetype%3A%28xlsb%29%20AND%20doi%3Azenodo&size=20&sort=bestmatch', 'self': 'https://zenodo.org/api/records?page=2&q=filetype%3A%28xlsb%29%20AND%20doi%3Azenodo&size=20&sort=bestmatch', 'next': 'https://zenodo.org/api/records?page=3&q=filetype%3A%28xlsb%29%20AND%20doi%3Azenodo&size=20&sort=bestmatch'}\n",
      "20 records were added to the big list\n",
      "setting next page: https://zenodo.org/api/records?page=3&q=filetype%3A%28xlsb%29%20AND%20doi%3Azenodo&size=20&sort=bestmatch\n",
      "current page https://zenodo.org/api/records?page=3&q=filetype%3A%28xlsb%29%20AND%20doi%3Azenodo&size=20&sort=bestmatch&q=filetype%3A%28xlsb%29+AND+doi%3Azenodo&size=20\n",
      "the links on this current page are: {'prev': 'https://zenodo.org/api/records?page=2&q=filetype%3A%28xlsb%29%20AND%20doi%3Azenodo&size=20&sort=bestmatch', 'self': 'https://zenodo.org/api/records?page=3&q=filetype%3A%28xlsb%29%20AND%20doi%3Azenodo&size=20&sort=bestmatch'}\n",
      "8 records were added to the big list\n"
     ]
    }
   ],
   "source": [
    "# While results['links']['next'] isn't empty, let's download the next page, too\n",
    "#ran into problems, looked at https://stackoverflow.com/questions/50708172/keyerror-in-while-loop\n",
    "#still having problems, trying https://farnamdata.com/api-pagination/\n",
    "#what finally worked was this: https://viniciusdesouza-becker.medium.com/making-a-request-in-a-paginated-api-using-python-7be6279c2aca\n",
    "\n",
    "#a while loop that gets all the pages of API results using the 'next' value in the result\n",
    "while True:\n",
    "    response = requests.get(url, params = params)\n",
    "    print(f'current page {response.url}')\n",
    "    if response.status_code != 200:\n",
    "        raise ValueError('Request failed with status code ' + str(response.status_code)) \n",
    "    results = response.json()\n",
    "    print(f'the links on this current page are: {results[\"links\"]}')\n",
    "    total_results.extend(results['hits']['hits'])\n",
    "    print(f'{len(results[\"hits\"][\"hits\"])} records were added to the big list')\n",
    "    if 'next' in results['links'].keys():\n",
    "        url = results['links']['next']\n",
    "        print(f'setting next page: {url}')\n",
    "    else:\n",
    "        break"
   ]
  },
  {
   "cell_type": "code",
   "execution_count": 10,
   "id": "729f7f1d-563a-4d1b-9c97-853320bcf624",
   "metadata": {},
   "outputs": [
    {
     "name": "stdout",
     "output_type": "stream",
     "text": [
      "We have 48 total results\n"
     ]
    }
   ],
   "source": [
    "print(\"We have\", len(total_results), \"total results\")"
   ]
  },
  {
   "cell_type": "code",
   "execution_count": null,
   "id": "be452843-6046-45ea-8610-51dd423b921c",
   "metadata": {},
   "outputs": [],
   "source": [
    "#output metadata records to one giant file\n",
    "#explore: also output pickle file?\n",
    "with open(f'zenodo_API_metadata_results_{filetime}.json', 'w') as f:\n",
    "    json.dump(total_results, f)"
   ]
  },
  {
   "cell_type": "code",
   "execution_count": null,
   "id": "b1e97f34-ed0f-4c30-8bcf-2cc0a56c447c",
   "metadata": {},
   "outputs": [],
   "source": [
    "#loop through the metadata records to extract the record id values\n",
    "#also write individual metadata files for each record\n",
    "for record in total_results:\n",
    "    record_id = record['id']\n",
    "    #put the id in a text file or some object that will then become the text file\n",
    "    record_id_list.append(record_id)\n",
    "    #write out a json metadata file for a single record, put it in a directory named for the id?\n",
    "    with open(f'{record_id}_metadata_{filetime}.json', 'w') as f:\n",
    "       json.dump(record, f)"
   ]
  },
  {
   "cell_type": "code",
   "execution_count": null,
   "id": "2f1660ed-5ba9-4fff-a124-ff78b2c84cb7",
   "metadata": {},
   "outputs": [],
   "source": [
    "#make a text file with a record id on each line, so zenodo_get can be used later to download files\n",
    "#https://pytutorial.com/python-dump-list-to-file/    \n",
    "print(record_id_list)    \n",
    "with open(f'record_ids_{filetime}.txt', 'w') as file:\n",
    "    for item in record_id_list:\n",
    "        file.write(f\"{item}\\n\")"
   ]
  },
  {
   "cell_type": "markdown",
   "id": "3da334a1-0340-43c9-8608-097862041463",
   "metadata": {},
   "source": [
    "The rest of this is various code that failed or I don't need anymore"
   ]
  },
  {
   "cell_type": "code",
   "execution_count": null,
   "id": "560d5ade-1972-4ca2-bf39-699cc42e57d3",
   "metadata": {},
   "outputs": [],
   "source": [
    "# print('downloading first page of search results')\n",
    "# response = requests.get(url, params = params)\n",
    "# print(response.url)\n",
    "# print(response.links)\n",
    "# results = response.json()"
   ]
  },
  {
   "cell_type": "code",
   "execution_count": null,
   "id": "8df2f5c8-6830-40c0-a569-8d4520818744",
   "metadata": {},
   "outputs": [],
   "source": [
    "# print(results['links'].keys())\n",
    "# if 'next' in results['links'].keys():\n",
    "#     print(\"yay\")\n",
    "# else:\n",
    "#     print(\"boo\")"
   ]
  },
  {
   "cell_type": "code",
   "execution_count": null,
   "id": "de47a69d-6372-4360-a98f-78482b5ba080",
   "metadata": {},
   "outputs": [],
   "source": [
    "# # Store the first page of results\n",
    "# total_results = total_results + results['hits']['hits']\n",
    "# #print(total_results)"
   ]
  },
  {
   "cell_type": "code",
   "execution_count": null,
   "id": "d4069842-52cf-4d6b-8595-6e02021ffae9",
   "metadata": {},
   "outputs": [],
   "source": [
    "# response = requests.get(results['links']['next'])\n",
    "# results = response.json()\n",
    "# print(response.url)\n",
    "# # Store the current page of results\n",
    "# total_results = total_results + results['hits']['hits']\n",
    "# #print(total_results)"
   ]
  },
  {
   "cell_type": "code",
   "execution_count": null,
   "id": "6d461a94-45c5-49ae-b00a-74e69fce316d",
   "metadata": {},
   "outputs": [],
   "source": [
    "#from https://jonathansoma.com/lede/foundations-2018/classes/apis/multiple-pages-of-data-from-apis/\n",
    "# # Start with an empty list\n",
    "# total_results = []\n",
    "\n",
    "# # Grab the search results\n",
    "# print(\"Downloading the original search results\")\n",
    "# response = requests.get(\"https://swapi.co/api/people/?search=a\")\n",
    "# data = response.json()\n",
    "\n",
    "# # Store the first page of results\n",
    "# total_results = total_results + data['results']\n",
    "\n",
    "# # While data['next'] isn't empty, let's download the next page, too\n",
    "# while data['next'] is not None:\n",
    "#     print(\"Next page found, downloading\", data['next'])\n",
    "#     response = requests.get(data['next'])\n",
    "#     data = response.json()\n",
    "#     # Store the current page of results\n",
    "#     total_results = total_results + data['results']\n",
    "\n",
    "# print(\"We have\", len(total_results), \"total results\")"
   ]
  },
  {
   "cell_type": "code",
   "execution_count": null,
   "id": "5f6863b8-4644-4263-97cd-51b223c9ef83",
   "metadata": {},
   "outputs": [],
   "source": [
    "# response = requests.get('https://zenodo.org/api/records',\n",
    "#                         params={'q': 'filetype:(csv OR xlsx OR tsv OR xls OR ods OR xslb) AND doi:zenodo',\n",
    "#                                 'size': '10',\n",
    "#                                 #'access_token': ACCESS_TOKEN\n",
    "#                                 # regular search: https://zenodo.org/search?q=&f=file_type%3Axlsx&f=file_type%3Acsv&f=file_type%3Atsv&f=file_type%3Axls&f=file_type%3Axlsb&f=file_type%3Aods&l=list&p=1&s=10&sort=newest\n",
    "#                                })\n",
    "# results = response.json()"
   ]
  },
  {
   "cell_type": "code",
   "execution_count": null,
   "id": "dea9a674-dbcd-4352-8179-c0a7095a1738",
   "metadata": {},
   "outputs": [],
   "source": [
    "# with open('spreadsheet-metadata_%s.json' %filetime, 'w') as f:\n",
    "#     f.write(response.text)"
   ]
  },
  {
   "cell_type": "code",
   "execution_count": null,
   "id": "690e09cd-680b-4d1c-84a2-2705709c9ff2",
   "metadata": {},
   "outputs": [],
   "source": [
    "# print(response.url)"
   ]
  },
  {
   "cell_type": "code",
   "execution_count": null,
   "id": "dad9652f-4fa3-4232-8d61-463de2d24739",
   "metadata": {},
   "outputs": [],
   "source": [
    "# for record in results['hits']['hits']:\n",
    "#     record_id = record['id']\n",
    "#     with open('metadata_%s.json' %record_id, 'w') as f:\n",
    "#         json.dump(record, f, ensure_ascii=False)\n",
    "#     # # print(record['metadata']['title'])\n",
    "#     # # print(record['files'])\n",
    "#     # for file in record['files']:\n",
    "#     #     filename = file['key']\n",
    "#     #     #print(filename)\n",
    "#     #     if re.search(r'\\.(csv|tsv|xlsx|xls|xlsb|ods)', filename):\n",
    "#     #         print(\"spreadsheet file found:\", filename)"
   ]
  },
  {
   "cell_type": "code",
   "execution_count": null,
   "id": "296526a9-5904-4140-9e99-5882f5a97c9c",
   "metadata": {},
   "outputs": [],
   "source": [
    "# len(\"Output_Area_to_LSOA_to_MSOA_to_Local_Authority_District__December_2017__Lookup_with_Area_Classifications_in_Great_Britain.csv\")"
   ]
  },
  {
   "cell_type": "code",
   "execution_count": null,
   "id": "88b9dfc7-80a8-4e3a-8fa3-a1d6cc8633b5",
   "metadata": {},
   "outputs": [],
   "source": [
    "# for filetype in results['aggregations']['file_type']['buckets']:\n",
    "#     print(filetype['key'],filetype['doc_count'])"
   ]
  }
 ],
 "metadata": {
  "kernelspec": {
   "display_name": "Python 3 (ipykernel)",
   "language": "python",
   "name": "python3"
  },
  "language_info": {
   "codemirror_mode": {
    "name": "ipython",
    "version": 3
   },
   "file_extension": ".py",
   "mimetype": "text/x-python",
   "name": "python",
   "nbconvert_exporter": "python",
   "pygments_lexer": "ipython3",
   "version": "3.11.7"
  }
 },
 "nbformat": 4,
 "nbformat_minor": 5
}
